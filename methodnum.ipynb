{
  "nbformat": 4,
  "nbformat_minor": 0,
  "metadata": {
    "colab": {
      "provenance": [],
      "authorship_tag": "ABX9TyMB/qpxwgsNlTEToAWuRh6P",
      "include_colab_link": true
    },
    "kernelspec": {
      "name": "python3",
      "display_name": "Python 3"
    },
    "language_info": {
      "name": "python"
    }
  },
  "cells": [
    {
      "cell_type": "markdown",
      "metadata": {
        "id": "view-in-github",
        "colab_type": "text"
      },
      "source": [
        "<a href=\"https://colab.research.google.com/github/trianadia/numericalmethod/blob/main/methodnum.ipynb\" target=\"_parent\"><img src=\"https://colab.research.google.com/assets/colab-badge.svg\" alt=\"Open In Colab\"/></a>"
      ]
    },
    {
      "cell_type": "code",
      "execution_count": null,
      "metadata": {
        "colab": {
          "base_uri": "https://localhost:8080/"
        },
        "id": "VVRaIrrlqIXe",
        "outputId": "891154c1-86e7-4d38-96e4-909f1fd00ac2"
      },
      "outputs": [
        {
          "output_type": "stream",
          "name": "stdout",
          "text": [
            "0.8992965301340646  >= 2/3\n"
          ]
        }
      ],
      "source": [
        "import numpy as np\n",
        "import matplotlib.pyplot as plt\n",
        "import pandas as pd\n",
        "\n",
        "x = np.random.rand(1,1)\n",
        "x = x[0,0]\n",
        "if x < 0.33:\n",
        "  print(x, \" < 1/3\")\n",
        "elif x < 0.67:\n",
        "  print(\"1/3 <= \",x, \" < 2/3\")\n",
        "else:\n",
        "  print(x, \" >= 2/3\")"
      ]
    },
    {
      "cell_type": "code",
      "source": [
        "def f(x):\n",
        "  return(x**2+3)\n",
        "print(\"f(2)= \", f(2))\n",
        "print(\"f(7)= \", f(7))"
      ],
      "metadata": {
        "colab": {
          "base_uri": "https://localhost:8080/"
        },
        "id": "w_QMAsAoqhHa",
        "outputId": "ac06e2f1-05cb-4695-bfcd-5581da65c0dc"
      },
      "execution_count": null,
      "outputs": [
        {
          "output_type": "stream",
          "name": "stdout",
          "text": [
            "f(2)=  7\n",
            "f(7)=  52\n"
          ]
        }
      ]
    },
    {
      "cell_type": "code",
      "source": [
        "f = lambda x: x**2+3\n",
        "print(\"f(2)= \", f(2))\n",
        "print(\"f(7)= \", f(7))"
      ],
      "metadata": {
        "colab": {
          "base_uri": "https://localhost:8080/"
        },
        "id": "EG2A401pqkGx",
        "outputId": "8b22bc10-679d-4982-cf12-df182b82c3ec"
      },
      "execution_count": null,
      "outputs": [
        {
          "output_type": "stream",
          "name": "stdout",
          "text": [
            "f(2)=  7\n",
            "f(7)=  52\n"
          ]
        }
      ]
    }
  ]
}