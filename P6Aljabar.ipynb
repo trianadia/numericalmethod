{
  "nbformat": 4,
  "nbformat_minor": 0,
  "metadata": {
    "colab": {
      "provenance": [],
      "authorship_tag": "ABX9TyPknvutrZX3RHTZYtdPa+GR",
      "include_colab_link": true
    },
    "kernelspec": {
      "name": "python3",
      "display_name": "Python 3"
    },
    "language_info": {
      "name": "python"
    }
  },
  "cells": [
    {
      "cell_type": "markdown",
      "metadata": {
        "id": "view-in-github",
        "colab_type": "text"
      },
      "source": [
        "<a href=\"https://colab.research.google.com/github/trianadia/numericalmethod/blob/main/P6Aljabar.ipynb\" target=\"_parent\"><img src=\"https://colab.research.google.com/assets/colab-badge.svg\" alt=\"Open In Colab\"/></a>"
      ]
    },
    {
      "cell_type": "code",
      "execution_count": 2,
      "metadata": {
        "colab": {
          "base_uri": "https://localhost:8080/"
        },
        "id": "m0T10rJ90Wzq",
        "outputId": "decedc19-bb6e-4015-a90f-c486fd570ccc"
      },
      "outputs": [
        {
          "output_type": "stream",
          "name": "stdout",
          "text": [
            "Tranpose A: \n",
            " [[1 4]\n",
            " [2 5]\n",
            " [3 6]]\n"
          ]
        }
      ],
      "source": [
        "import numpy as np\n",
        "\n",
        "u = np.array([1,2,3])\n",
        "A = np.array([[1,2,3], [4,5,6]])\n",
        "print(\"Tranpose A: \\n\" , A.T)"
      ]
    },
    {
      "cell_type": "markdown",
      "source": [
        "###LATIHAN"
      ],
      "metadata": {
        "id": "pviUHC7Y25m5"
      }
    },
    {
      "cell_type": "code",
      "source": [
        "import numpy as np\n",
        "\n",
        "u = np.array([1,2,3]) #Vektor\n",
        "A = np.array([[-2,1,2] , [7,0,5] , [2, -1, 3]]) #Matriks\n",
        "B = np.array([[5, 7, -1] , [2, -8, -9] , [1,2,3]])\n",
        "M = A @ B #perkalian matriks, jika * untuk perkalian biasa\n",
        "\n",
        "print(\"Matriks A: \\n\",A)\n",
        "print(\"Tranpose A: \\n\" , A.T)\n",
        "print(\"Hasil A * B = \\n\", M)"
      ],
      "metadata": {
        "colab": {
          "base_uri": "https://localhost:8080/"
        },
        "id": "XfyAKUY71bee",
        "outputId": "ce3e03f8-14d9-4181-fcc9-df1a6fe3d84d"
      },
      "execution_count": 11,
      "outputs": [
        {
          "output_type": "stream",
          "name": "stdout",
          "text": [
            "Matriks A: \n",
            " [[-2  1  2]\n",
            " [ 7  0  5]\n",
            " [ 2 -1  3]]\n",
            "Tranpose A: \n",
            " [[-2  7  2]\n",
            " [ 1  0 -1]\n",
            " [ 2  5  3]]\n",
            "Hasil A * B = \n",
            " [[ -6 -18  -1]\n",
            " [ 40  59   8]\n",
            " [ 11  28  16]]\n"
          ]
        }
      ]
    },
    {
      "cell_type": "markdown",
      "source": [
        "###FAKTOR LU"
      ],
      "metadata": {
        "id": "RtNinyAI7wha"
      }
    },
    {
      "cell_type": "code",
      "source": [
        "from scipy.linalg import lu\n",
        "\n",
        "A = np.array([[-2, 1, 2], [7, 0, 5], [2, -1, 3]])\n",
        "\n",
        "P, L, U = lu(A)\n",
        "\n",
        "print(\"L=\\n\", L)\n",
        "print(\"U:\\n\", U)"
      ],
      "metadata": {
        "colab": {
          "base_uri": "https://localhost:8080/"
        },
        "id": "hSk_QMK76oLQ",
        "outputId": "506ef826-9e34-4ad3-df8a-88bf0c27cfc1"
      },
      "execution_count": 15,
      "outputs": [
        {
          "output_type": "stream",
          "name": "stdout",
          "text": [
            "L=\n",
            " [[ 1.          0.          0.        ]\n",
            " [-0.28571429  1.          0.        ]\n",
            " [ 0.28571429 -1.          1.        ]]\n",
            "U:\n",
            " [[7.         0.         5.        ]\n",
            " [0.         1.         3.42857143]\n",
            " [0.         0.         5.        ]]\n"
          ]
        }
      ]
    },
    {
      "cell_type": "markdown",
      "source": [
        "###FAKTOR QR"
      ],
      "metadata": {
        "id": "INv1KhmS8qyX"
      }
    },
    {
      "cell_type": "code",
      "source": [
        "from scipy.linalg import qr\n",
        "\n",
        "A = np.array([[-2, 1, 2], [7, 0, 5], [2, -1, 3]])\n",
        "\n",
        "Q, R = qr(A)\n",
        "\n",
        "print(\"Q=\\n\", Q)\n",
        "print(\"R:\\n\", R)"
      ],
      "metadata": {
        "colab": {
          "base_uri": "https://localhost:8080/"
        },
        "id": "bk_2btmY8VoL",
        "outputId": "5e728d59-55ba-444c-a4af-9c5fabe91ad9"
      },
      "execution_count": 16,
      "outputs": [
        {
          "output_type": "stream",
          "name": "stdout",
          "text": [
            "Q=\n",
            " [[-0.26490647 -0.65561007  0.70710678]\n",
            " [ 0.92717265 -0.37463432  0.        ]\n",
            " [ 0.26490647  0.65561007  0.70710678]]\n",
            "R:\n",
            " [[ 7.54983444 -0.52981294  4.90076972]\n",
            " [ 0.         -1.31122014 -1.21756156]\n",
            " [ 0.          0.          3.53553391]]\n"
          ]
        }
      ]
    },
    {
      "cell_type": "markdown",
      "source": [
        "###EIGEN DECOMPOSITION"
      ],
      "metadata": {
        "id": "Yn-DhAYH9gjn"
      }
    },
    {
      "cell_type": "code",
      "source": [
        "A = np.array([[-2, 1, 2], [7, 0, 5], [2, -1, 3]])\n",
        "\n",
        "vals, vecs = np.linalg.eig(A)\n",
        "print(\"Nilai eigen = \", vals)\n",
        "print(\"vektor eigen = \\n\", vecs)"
      ],
      "metadata": {
        "colab": {
          "base_uri": "https://localhost:8080/"
        },
        "id": "b0-Jj8RJ9g3m",
        "outputId": "f938cc4c-f335-4700-e536-433e73353700"
      },
      "execution_count": 17,
      "outputs": [
        {
          "output_type": "stream",
          "name": "stdout",
          "text": [
            "Nilai eigen =  [-4.06685449+0.j         2.53342724+1.4791573j  2.53342724-1.4791573j]\n",
            "vektor eigen = \n",
            " [[ 0.62383659+0.j         -0.25940278-0.02257034j -0.25940278+0.02257034j]\n",
            " [-0.72974709+0.j         -0.92825737+0.j         -0.92825737-0.j        ]\n",
            " [-0.27981619+0.j         -0.1071706 -0.24300926j -0.1071706 +0.24300926j]]\n"
          ]
        }
      ]
    },
    {
      "cell_type": "markdown",
      "source": [],
      "metadata": {
        "id": "gHNi-1nD-FZV"
      }
    },
    {
      "cell_type": "code",
      "source": [],
      "metadata": {
        "id": "aVSIzWhA-EOW"
      },
      "execution_count": null,
      "outputs": []
    }
  ]
}