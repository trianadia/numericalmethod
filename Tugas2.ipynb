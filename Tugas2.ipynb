{
  "nbformat": 4,
  "nbformat_minor": 0,
  "metadata": {
    "colab": {
      "provenance": [],
      "authorship_tag": "ABX9TyNFeW9sluuOxH9aalEH/Vt/",
      "include_colab_link": true
    },
    "kernelspec": {
      "name": "python3",
      "display_name": "Python 3"
    },
    "language_info": {
      "name": "python"
    }
  },
  "cells": [
    {
      "cell_type": "markdown",
      "metadata": {
        "id": "view-in-github",
        "colab_type": "text"
      },
      "source": [
        "<a href=\"https://colab.research.google.com/github/trianadia/numericalmethod/blob/main/Tugas2.ipynb\" target=\"_parent\"><img src=\"https://colab.research.google.com/assets/colab-badge.svg\" alt=\"Open In Colab\"/></a>"
      ]
    },
    {
      "cell_type": "code",
      "execution_count": null,
      "metadata": {
        "id": "3cOm9BYON8e2"
      },
      "outputs": [],
      "source": [
        "import math\n",
        "\n",
        "def bisection_while(f, a, b, tol=1e-8, max_iter=1000):\n",
        "    fa, fb = f(a), f(b)\n",
        "    if fa * fb > 0:\n",
        "        raise ValueError(\"f(a) and f(b) must have opposite signs!\")\n",
        "\n",
        "    for _ in range(max_iter):\n",
        "        m = (a + b) / 2\n",
        "        fm = f(m)\n",
        "\n",
        "        if abs(fm) < tol or (b - a) / 2 < tol:\n",
        "            return m\n",
        "        if fa * fm < 0:\n",
        "            b, fb = m, fm\n",
        "        else:\n",
        "            a, fa = m, fm\n",
        "\n",
        "    return (a + b) / 2"
      ]
    }
  ]
}