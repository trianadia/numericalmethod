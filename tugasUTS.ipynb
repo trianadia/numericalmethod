{
  "nbformat": 4,
  "nbformat_minor": 0,
  "metadata": {
    "colab": {
      "provenance": [],
      "authorship_tag": "ABX9TyPdk2/cL39lARHcZ9n4IB8R",
      "include_colab_link": true
    },
    "kernelspec": {
      "name": "python3",
      "display_name": "Python 3"
    },
    "language_info": {
      "name": "python"
    }
  },
  "cells": [
    {
      "cell_type": "markdown",
      "metadata": {
        "id": "view-in-github",
        "colab_type": "text"
      },
      "source": [
        "<a href=\"https://colab.research.google.com/github/trianadia/numericalmethod/blob/main/tugasUTS.ipynb\" target=\"_parent\"><img src=\"https://colab.research.google.com/assets/colab-badge.svg\" alt=\"Open In Colab\"/></a>"
      ]
    },
    {
      "cell_type": "code",
      "execution_count": null,
      "metadata": {
        "colab": {
          "base_uri": "https://localhost:8080/"
        },
        "id": "A0b-X29cb4kJ",
        "outputId": "0e6ebffd-a0ab-43d5-941a-28984b8e648e"
      },
      "outputs": [
        {
          "output_type": "stream",
          "name": "stdout",
          "text": [
            "Nilai batas bawah suhu (f(a)) = 0.0000\n",
            "Nilai batas atas suhu (f(b)) = 1.0776\n",
            "\n",
            "Ambang batas suhu optimal ditemukan di sekitar: 39.906 °C\n",
            "\n",
            "=== Interpretasi ===\n",
            "Suhu optimal terjadi pada kondisi hangat.\n"
          ]
        }
      ],
      "source": [
        "import pandas as pd\n",
        "\n",
        "df = pd.read_csv(\"weatherHistory.csv\")\n",
        "df = df.dropna(subset=[\"Temperature (C)\", \"Apparent Temperature (C)\"])\n",
        "\n",
        "def f(T):\n",
        "    subset = df[df[\"Temperature (C)\"] <= T]\n",
        "    if len(subset) == 0:\n",
        "        return -1\n",
        "    diff = (subset[\"Temperature (C)\"] - subset[\"Apparent Temperature (C)\"]).mean()\n",
        "    return diff\n",
        "\n",
        "def bisection_method(f, a, b, tol=1e-6, max_iter=1000):\n",
        "    fa, fb = f(a), f(b)\n",
        "    if fa * fb > 0:\n",
        "        raise ValueError(f\"f(a) dan f(b) harus berlawanan tanda!\\n f(a)={fa}, f(b)={fb}\")\n",
        "    for _ in range(max_iter):\n",
        "        m = (a + b) / 2\n",
        "        fm = f(m)\n",
        "        if abs(fm) < tol or (b - a) / 2 < tol:\n",
        "            return m\n",
        "        if fa * fm < 0:\n",
        "            b, fb = m, fm\n",
        "        else:\n",
        "            a, fa = m, fm\n",
        "    return (a + b) / 2\n",
        "\n",
        "a = df[\"Temperature (C)\"].min()\n",
        "b = df[\"Temperature (C)\"].max()\n",
        "\n",
        "fa, fb = f(a), f(b)\n",
        "print(f\"Nilai batas bawah suhu (f(a)) = {fa:.4f}\")\n",
        "print(f\"Nilai batas atas suhu (f(b)) = {fb:.4f}\")\n",
        "\n",
        "if fa * fb > 0:\n",
        "    print(\"Tidak ditemukan perubahan tanda pada rentang awal.\")\n",
        "    print(\"Menyesuaikan rentang secara otomatis...\")\n",
        "    a, b = 0, 40\n",
        "    print(f\"Rentang baru: a={a}, b={b}\")\n",
        "\n",
        "root = bisection_method(f, a, b)\n",
        "print(f\"\\nAmbang batas suhu optimal ditemukan di sekitar: {root:.3f} °C\")\n",
        "\n",
        "print(\"\\n=== Interpretasi ===\")\n",
        "if root < 15:\n",
        "    print(\"Suhu optimal terjadi pada kondisi dingin.\")\n",
        "elif root < 25:\n",
        "    print(\"Suhu optimal terjadi pada kondisi sejuk/nyaman.\")\n",
        "else:\n",
        "    print(\"Suhu optimal terjadi pada kondisi hangat.\")\n"
      ]
    }
  ]
}