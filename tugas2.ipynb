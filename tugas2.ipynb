{
  "nbformat": 4,
  "nbformat_minor": 0,
  "metadata": {
    "colab": {
      "provenance": [],
      "authorship_tag": "ABX9TyOk2XWLG6lD0j8EddT+zszV",
      "include_colab_link": true
    },
    "kernelspec": {
      "name": "python3",
      "display_name": "Python 3"
    },
    "language_info": {
      "name": "python"
    }
  },
  "cells": [
    {
      "cell_type": "markdown",
      "metadata": {
        "id": "view-in-github",
        "colab_type": "text"
      },
      "source": [
        "<a href=\"https://colab.research.google.com/github/trianadia/numericalmethod/blob/main/tugas2.ipynb\" target=\"_parent\"><img src=\"https://colab.research.google.com/assets/colab-badge.svg\" alt=\"Open In Colab\"/></a>"
      ]
    },
    {
      "cell_type": "code",
      "execution_count": 2,
      "metadata": {
        "id": "3cOm9BYON8e2",
        "outputId": "e4cde360-d561-42a7-c13d-729877324902",
        "colab": {
          "base_uri": "https://localhost:8080/"
        }
      },
      "outputs": [
        {
          "output_type": "stream",
          "name": "stdout",
          "text": [
            "Akar persamaan x^2 - 2 = 0 adalah: 1.4142135605216026\n",
            "Cek kuadratnya: 1.9999999947631886\n"
          ]
        }
      ],
      "source": [
        "import math\n",
        "\n",
        "def bisection_while(f, a, b, tol=1e-8, max_iter=1000):\n",
        "    fa, fb = f(a), f(b)\n",
        "    if fa * fb > 0:\n",
        "        raise ValueError(\"f(a) and f(b) must have opposite signs!\")\n",
        "\n",
        "    for _ in range(max_iter):\n",
        "        m = (a + b) / 2\n",
        "        fm = f(m)\n",
        "\n",
        "        if abs(fm) < tol or (b - a) / 2 < tol:\n",
        "            return m\n",
        "        if fa * fm < 0:\n",
        "            b, fb = m, fm\n",
        "        else:\n",
        "            a, fa = m, fm\n",
        "\n",
        "    return (a + b) / 2\n",
        "\n",
        "def f(x):\n",
        " return x**2 - 2\n",
        "\n",
        "a = 0\n",
        "b = 2\n",
        "\n",
        "root = bisection_while(f, a, b)\n",
        "\n",
        "print(\"Akar persamaan x^2 - 2 = 0 adalah:\", root)\n",
        "print(\"Cek kuadratnya:\", root**2)"
      ]
    },
    {
      "cell_type": "code",
      "source": [
        "def regula_falsi(f, a, b, tol=1e-6, max_iter=100):\n",
        "  if f(a) * f(b) > 0:\n",
        "    raise ValueError(\"Fungsi tidak memiliki tanda berbeda\")\n",
        "  for i in range(max_iter):\n",
        "    c = b - (f(b)*(b-a))/(f(b)-f(a))\n",
        "    if abs(f(c)) < tol:\n",
        "      return c\n",
        "    if f(a) * f(c) < 0:\n",
        "      b = c\n",
        "    else:\n",
        "      a = c\n",
        "  return c"
      ],
      "metadata": {
        "id": "ie9Vu5XTdVGd"
      },
      "execution_count": null,
      "outputs": []
    },
    {
      "cell_type": "code",
      "source": [
        "import sympy as sp\n",
        "\n",
        "x = sp.symbols('x')\n",
        "f_exr = sp.exp(x) - 2*2**2\n",
        "f = sp.lambdify(x, f_expr, 'numpy')\n",
        "f_prime = sp.lambdify(x, sp.diff(f_expr, x), 'numpy')\n",
        "\n",
        "def newton_method(f, df, x0, tol=1e-6, max_iter=50):\n",
        "  x = x0\n",
        "  for i in range(max_iter):\n",
        "    if abs(df(x)) < 1e-12:\n",
        "      raise ValueError(\"Turunan mendekati nol!\")\n",
        "    x_new = x -f(x)df(x)\n",
        "    if abs(x_new-x)<tol:\n",
        "      return x_new\n",
        "    x = x_new\n",
        "  return x"
      ],
      "metadata": {
        "id": "0PaKlvoGeQ-y"
      },
      "execution_count": null,
      "outputs": []
    },
    {
      "cell_type": "code",
      "source": [
        "function secant(f, x0, x1, tol_f, tol_x, maxit):\n",
        "    for k = 1..maxit:\n",
        "      f0, f1 = f(x0), f(x1)\n",
        "      if |f1| < tol_f: return x1\n",
        "      denom = (f1 -f0)\n",
        "      if |denom| < eps : error(\"division by ~0\")\n",
        "      x2 = x1 - f1*(x1 - x0)/denom\n",
        "      if |x2 - x1|  < tol_x: return x2\n",
        "      x0, x1 = x1, x2\n",
        "    return x1"
      ],
      "metadata": {
        "id": "CFSuNS65fdKV"
      },
      "execution_count": null,
      "outputs": []
    }
  ]
}