{
  "nbformat": 4,
  "nbformat_minor": 0,
  "metadata": {
    "colab": {
      "provenance": [],
      "authorship_tag": "ABX9TyM9k1DiI1s1NC+stY1tFZpD",
      "include_colab_link": true
    },
    "kernelspec": {
      "name": "python3",
      "display_name": "Python 3"
    },
    "language_info": {
      "name": "python"
    }
  },
  "cells": [
    {
      "cell_type": "markdown",
      "metadata": {
        "id": "view-in-github",
        "colab_type": "text"
      },
      "source": [
        "<a href=\"https://colab.research.google.com/github/trianadia/numericalmethod/blob/main/tugas2.ipynb\" target=\"_parent\"><img src=\"https://colab.research.google.com/assets/colab-badge.svg\" alt=\"Open In Colab\"/></a>"
      ]
    },
    {
      "cell_type": "code",
      "execution_count": null,
      "metadata": {
        "id": "3cOm9BYON8e2",
        "outputId": "a704ddd3-b6f6-4359-bb08-d15c308dfbb9",
        "colab": {
          "base_uri": "https://localhost:8080/"
        }
      },
      "outputs": [
        {
          "output_type": "stream",
          "name": "stdout",
          "text": [
            "Akar persamaan x^2 - 2 = 0 adalah: 1.4142135605216026\n",
            "Cek kuadratnya: 1.9999999947631886\n"
          ]
        }
      ],
      "source": [
        "import math  # Mengimpor modul matematika (bisa dipakai untuk fungsi sin, cos, log, dll)\n",
        "\n",
        "# Mendefinisikan fungsi metode bisection\n",
        "def bisection_while(f, a, b, tol=1e-8, max_iter=1000):\n",
        "    fa, fb = f(a), f(b)              # Hitung nilai fungsi di batas bawah (a) dan batas atas (b)\n",
        "\n",
        "    # Mengecek apakah tanda f(a) dan f(b) berbeda\n",
        "    if fa * fb > 0:\n",
        "        raise ValueError(\"f(a) and f(b) must have opposite signs!\")\n",
        "\n",
        "    # Perulangan hingga mencapai iterasi maksimum\n",
        "    for _ in range(max_iter):\n",
        "        m = (a + b) / 2              # Titik tengah interval\n",
        "        fm = f(m)                    # Hitung nilai fungsi di titik tengah\n",
        "\n",
        "        # Kondisi berhenti:\n",
        "        # 1. f(m) sudah mendekati nol\n",
        "        # 2. Panjang interval sudah lebih kecil dari toleransi\n",
        "        if abs(fm) < tol or (b - a) / 2 < tol:\n",
        "            return m                 # Kembalikan m sebagai akar pendekatan\n",
        "\n",
        "        # Menentukan sisi interval mana yang berisi akar\n",
        "        if fa * fm < 0:              # Jika tanda berbeda, akar ada di kiri\n",
        "            b, fb = m, fm            # Geser batas atas ke m\n",
        "        else:                        # Jika tidak, akar ada di kanan\n",
        "            a, fa = m, fm            # Geser batas bawah ke m\n",
        "\n",
        "    # Jika sudah mencapai max_iter, kembalikan titik tengah terakhir\n",
        "    return (a + b) / 2\n",
        "\n",
        "#CONTOH PEMAKAIAN\n",
        "# Mendefinisikan fungsi f(x) = x^3 - 2x - 5\n",
        "def f(x):\n",
        "    return x**3 - 2*x - 5\n",
        "\n",
        "# Cari akar fungsi f pada interval [1, 3]\n",
        "akar = bisection_while(f, 1, 3)\n",
        "\n",
        "# Cetak hasil akar\n",
        "print(\"Akar ditemukan:\", akar)"
      ]
    },
    {
      "cell_type": "code",
      "source": [
        "import math  # Import modul matematika (bisa dipakai kalau soal pakai sin, cos, log, dll)\n",
        "\n",
        "# ================== METODE REGULA FALSI ==================\n",
        "def regula_falsi(f, a, b, tol=1e-6, max_iter=100):\n",
        "    # f     : fungsi yang akan dicari akarnya\n",
        "    # a, b  : batas interval\n",
        "    # tol   : toleransi error (default 1e-6)\n",
        "    # max_iter : jumlah iterasi maksimum (default 100)\n",
        "\n",
        "    if f(a) * f(b) > 0:\n",
        "        # Jika f(a) dan f(b) bertanda sama, akar tidak dijamin ada\n",
        "        raise ValueError(\"Fungsi tidak memiliki tanda berbeda\")\n",
        "\n",
        "    for i in range(max_iter):  # Ulang sampai batas iterasi maksimum\n",
        "        # Rumus Regula Falsi (False Position)\n",
        "        c = b - (f(b) * (b - a)) / (f(b) - f(a))\n",
        "\n",
        "        # Jika nilai f(c) sudah mendekati nol (kurang dari toleransi), akar ditemukan\n",
        "        if abs(f(c)) < tol:\n",
        "            return c\n",
        "\n",
        "        # Jika akar ada di interval kiri [a, c]\n",
        "        if f(a) * f(c) < 0:\n",
        "            b = c\n",
        "        else:\n",
        "            # Jika akar ada di interval kanan [c, b]\n",
        "            a = c\n",
        "\n",
        "    # Jika sudah max_iter, kembalikan perkiraan akar terakhir\n",
        "    return c\n",
        "\n",
        "# CONTOH PEMAKAIAN\n",
        "# Mendefinisikan fungsi f(x) = x^3 - 2x - 5\n",
        "def f(x):\n",
        "    return x**3 - 2*x - 5\n",
        "\n",
        "# Cari akar fungsi f pada interval [1, 3]\n",
        "akar = regula_falsi(f, 1, 3)\n",
        "\n",
        "# Cetak hasil akar\n",
        "print(\"Akar ditemukan:\", akar)"
      ],
      "metadata": {
        "outputId": "e8645229-e236-470d-e204-b5d798b5ed0c",
        "colab": {
          "base_uri": "https://localhost:8080/"
        },
        "id": "is44bnNFul4R"
      },
      "execution_count": null,
      "outputs": [
        {
          "output_type": "stream",
          "name": "stdout",
          "text": [
            "Akar ditemukan: 2.094551400063298\n"
          ]
        }
      ]
    },
    {
      "cell_type": "code",
      "source": [
        "import sympy as sp  # Import library sympy untuk aljabar simbolik (turunan, persamaan, dll)\n",
        "\n",
        "# DEFINISI FUNGSI DAN TURUNAN\n",
        "x = sp.symbols('x')                 # Mendefinisikan variabel simbolik x\n",
        "f_expr = x**3 - 2*x - 5                  # Fungsi yang ingin dicari akarnya: f(x) = x^2 - 2\n",
        "f = sp.lambdify(x, f_expr, 'numpy') # Konversi ekspresi simbolik jadi fungsi numerik (bisa dipakai di Python)\n",
        "f_prime = sp.lambdify(x, sp.diff(f_expr, x), 'numpy')\n",
        "# Hitung turunan f(x), lalu konversi juga jadi fungsi numerik\n",
        "# Turunan dari x^2 - 2 adalah 2x\n",
        "\n",
        "#METODE NEWTON\n",
        "def newton_method(f, df, x0, tol=1e-6, max_iter=50):\n",
        "    # f      : fungsi\n",
        "    # df     : turunan fungsi\n",
        "    # x0     : tebakan awal (starting guess)\n",
        "    # tol    : toleransi error (default 1e-6)\n",
        "    # max_iter : jumlah iterasi maksimum\n",
        "\n",
        "    x = x0  # Set nilai awal\n",
        "    for i in range(max_iter):  # Ulangi hingga max_iter\n",
        "        if abs(df(x)) < 1e-12:\n",
        "            # Jika turunan terlalu kecil (hampir nol), hentikan (hindari pembagian nol)\n",
        "            raise ValueError(\"Turunan mendekati nol!\")\n",
        "\n",
        "        # Rumus Newton-Raphson: x_(n+1) = x_n - f(x_n)/f'(x_n)\n",
        "        x_new = x - f(x)/df(x)\n",
        "\n",
        "        # Jika perubahan antara x baru dan lama sudah < toleransi, berhenti\n",
        "        if abs(x_new - x) < tol:\n",
        "            return x_new\n",
        "\n",
        "        # Update nilai x untuk iterasi berikutnya\n",
        "        x = x_new\n",
        "\n",
        "    # Jika belum konvergen setelah max_iter, kembalikan nilai terakhir\n",
        "    return x\n",
        "\n",
        "#CONTOH PEMAKAIAN\n",
        "# Cari akar f(x) = x^2 - 2 dengan tebakan awal x0 = 1\n",
        "akar = newton_method(f, f_prime, x0=1)\n",
        "\n",
        "# Cetak hasil akar\n",
        "print(\"Akar ditemukan:\", akar)\n",
        "\n"
      ],
      "metadata": {
        "id": "0PaKlvoGeQ-y"
      },
      "execution_count": null,
      "outputs": []
    },
    {
      "cell_type": "code",
      "source": [
        "import math  # Import modul matematika (jika nanti pakai sin, cos, log, dll)\n",
        "\n",
        "# METODE SECANT\n",
        "def secant(f, x0, x1, tol_f=1e-6, tol_x=1e-6, max_iter=100):\n",
        "    # f        : fungsi yang dicari akarnya\n",
        "    # x0, x1   : dua tebakan awal\n",
        "    # tol_f    : toleransi untuk nilai fungsi\n",
        "    # tol_x    : toleransi untuk perubahan x\n",
        "    # max_iter : jumlah iterasi maksimum\n",
        "\n",
        "    for k in range(1, max_iter+1):   # Ulang dari 1 sampai max_iter\n",
        "        f0, f1 = f(x0), f(x1)        # Hitung f(x0) dan f(x1)\n",
        "\n",
        "        if abs(f1) < tol_f:          # Jika f(x1) sudah cukup kecil, x1 dianggap akar\n",
        "            return x1\n",
        "\n",
        "        denom = (f1 - f0)            # Penyebut rumus secant\n",
        "        if abs(denom) < 1e-12:       # Cek pembagi hampir nol\n",
        "            raise ValueError(\"Division by nearly zero!\")\n",
        "\n",
        "        # Rumus metode secant:\n",
        "        # x2 = x1 - f(x1) * (x1 - x0) / (f(x1) - f(x0))\n",
        "        x2 = x1 - f1 * (x1 - x0) / denom\n",
        "\n",
        "        if abs(x2 - x1) < tol_x:     # Jika perubahan x sudah kecil, akar ditemukan\n",
        "            return x2\n",
        "\n",
        "        # Update nilai untuk iterasi berikutnya\n",
        "        x0, x1 = x1, x2\n",
        "\n",
        "    return x1  # Jika iterasi habis, kembalikan perkiraan terakhir\n",
        "\n",
        "# CONTOH PEMAKAIAN\n",
        "# Definisikan fungsi f(x) = x^3 - 2x - 5\n",
        "def f(x):\n",
        "    return x**3 - 2*x - 5\n",
        "\n",
        "# Tebakan awal (x0=1, x1=3)\n",
        "akar = secant(f, 1, 3)\n",
        "\n",
        "# Cetak hasil akar\n",
        "print(\"Akar ditemukan:\", akar)\n"
      ],
      "metadata": {
        "id": "CFSuNS65fdKV"
      },
      "execution_count": null,
      "outputs": []
    }
  ]
}