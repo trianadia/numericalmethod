{
  "nbformat": 4,
  "nbformat_minor": 0,
  "metadata": {
    "colab": {
      "provenance": [],
      "authorship_tag": "ABX9TyO9QqIXT4vtVb7QGzeheSxB",
      "include_colab_link": true
    },
    "kernelspec": {
      "name": "python3",
      "display_name": "Python 3"
    },
    "language_info": {
      "name": "python"
    }
  },
  "cells": [
    {
      "cell_type": "markdown",
      "metadata": {
        "id": "view-in-github",
        "colab_type": "text"
      },
      "source": [
        "<a href=\"https://colab.research.google.com/github/trianadia/numericalmethod/blob/main/KalkulusNumerik.ipynb\" target=\"_parent\"><img src=\"https://colab.research.google.com/assets/colab-badge.svg\" alt=\"Open In Colab\"/></a>"
      ]
    },
    {
      "cell_type": "markdown",
      "source": [
        "BAB KALUKULUS NUMERIK"
      ],
      "metadata": {
        "id": "YgS-Q2dZzzU-"
      }
    },
    {
      "cell_type": "code",
      "execution_count": 3,
      "metadata": {
        "colab": {
          "base_uri": "https://localhost:8080/"
        },
        "id": "J6T2JaxXzuzz",
        "outputId": "f95ce5ba-5dac-4b2c-db47-d40a3541d8e3"
      },
      "outputs": [
        {
          "output_type": "stream",
          "name": "stdout",
          "text": [
            "Turunan analitik: 2*t + 2\n",
            "Laju perubahan suhu di t=3 = 8 oC/menit\n",
            "Hasil numerik di t=3 ≈ 7.999999999999119 oC/menit\n"
          ]
        }
      ],
      "source": [
        "import sympy as sp\n",
        "import numpy as np\n",
        "\n",
        "# definisi variabel & fungsi\n",
        "t = sp.Symbol('t')\n",
        "T = t**2 + 2*t\n",
        "\n",
        "# turunan analitik\n",
        "dT = sp.diff(T, t)\n",
        "print(\"Turunan analitik:\", dT)\n",
        "\n",
        "# evaluasi di t=3\n",
        "dT_at_3 = dT.subs(t, 3)\n",
        "print(\"Laju perubahan suhu di t=3 =\", dT_at_3, \"oC/menit\")\n",
        "\n",
        "# -----------------------------------\n",
        "# metode numerik (central difference)\n",
        "f = lambda x: x**2 + 2*x\n",
        "h = 0.001\n",
        "t0 = 3\n",
        "dT_num = (f(t0+h) - f(t0-h)) / (2*h)\n",
        "print(\"Hasil numerik di t=3 ≈\", dT_num, \"oC/menit\")"
      ]
    },
    {
      "cell_type": "code",
      "source": [
        "import numpy as np\n",
        "\n",
        "#fungsi\n",
        "f = lambda x: x**2\n",
        "\n",
        "#titik evaluasi\n",
        "x0 = 3\n",
        "h = 0.01\n",
        "\n",
        "#turunan eksak\n",
        "exact = 2*x0\n",
        "\n",
        "#forward difference\n",
        "forward = (f(x0 + h) - f(x0)) / h\n",
        "\n",
        "#backward difference\n",
        "backward = (f(x0) - f(x0 - h)) / h\n",
        "\n",
        "#central difference\n",
        "central = (f(x0 + h) - f(x0 - h )) / (2*h)\n",
        "\n",
        "print(\"Turunan eksak = \", exact)\n",
        "print(\"Froward difference = \",forward)\n",
        "print(\"Backward difference = \", backward)\n",
        "print(\"Central difference = \",central)"
      ],
      "metadata": {
        "colab": {
          "base_uri": "https://localhost:8080/"
        },
        "id": "fMtcCE5F2RJO",
        "outputId": "d81a7f20-f619-4ee4-ef8e-7f3699270577"
      },
      "execution_count": 5,
      "outputs": [
        {
          "output_type": "stream",
          "name": "stdout",
          "text": [
            "Turunan eksak =  6\n",
            "Froward difference =  6.009999999999849\n",
            "Backward difference =  5.989999999999895\n",
            "Central difference =  5.999999999999872\n"
          ]
        }
      ]
    }
  ]
}