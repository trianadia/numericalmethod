{
  "nbformat": 4,
  "nbformat_minor": 0,
  "metadata": {
    "colab": {
      "provenance": [],
      "authorship_tag": "ABX9TyMaFTmGos751KxDy1rgHtPn",
      "include_colab_link": true
    },
    "kernelspec": {
      "name": "python3",
      "display_name": "Python 3"
    },
    "language_info": {
      "name": "python"
    }
  },
  "cells": [
    {
      "cell_type": "markdown",
      "metadata": {
        "id": "view-in-github",
        "colab_type": "text"
      },
      "source": [
        "<a href=\"https://colab.research.google.com/github/trianadia/numericalmethod/blob/main/KalkulusNumerik.ipynb\" target=\"_parent\"><img src=\"https://colab.research.google.com/assets/colab-badge.svg\" alt=\"Open In Colab\"/></a>"
      ]
    },
    {
      "cell_type": "markdown",
      "source": [
        "BAB KALUKULUS NUMERIK"
      ],
      "metadata": {
        "id": "YgS-Q2dZzzU-"
      }
    },
    {
      "cell_type": "code",
      "execution_count": 3,
      "metadata": {
        "colab": {
          "base_uri": "https://localhost:8080/"
        },
        "id": "J6T2JaxXzuzz",
        "outputId": "f95ce5ba-5dac-4b2c-db47-d40a3541d8e3"
      },
      "outputs": [
        {
          "output_type": "stream",
          "name": "stdout",
          "text": [
            "Turunan analitik: 2*t + 2\n",
            "Laju perubahan suhu di t=3 = 8 oC/menit\n",
            "Hasil numerik di t=3 ≈ 7.999999999999119 oC/menit\n"
          ]
        }
      ],
      "source": [
        "import sympy as sp\n",
        "import numpy as np\n",
        "\n",
        "# definisi variabel & fungsi\n",
        "t = sp.Symbol('t')\n",
        "T = t**2 + 2*t\n",
        "\n",
        "# turunan analitik\n",
        "dT = sp.diff(T, t)\n",
        "print(\"Turunan analitik:\", dT)\n",
        "\n",
        "# evaluasi di t=3\n",
        "dT_at_3 = dT.subs(t, 3)\n",
        "print(\"Laju perubahan suhu di t=3 =\", dT_at_3, \"oC/menit\")\n",
        "\n",
        "# -----------------------------------\n",
        "# metode numerik (central difference)\n",
        "f = lambda x: x**2 + 2*x\n",
        "h = 0.001\n",
        "t0 = 3\n",
        "dT_num = (f(t0+h) - f(t0-h)) / (2*h)\n",
        "print(\"Hasil numerik di t=3 ≈\", dT_num, \"oC/menit\")"
      ]
    }
  ]
}