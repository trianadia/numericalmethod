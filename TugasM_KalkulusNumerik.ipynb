{
  "nbformat": 4,
  "nbformat_minor": 0,
  "metadata": {
    "colab": {
      "provenance": [],
      "authorship_tag": "ABX9TyO2k0y9OskB7ZT86CDKOW3H",
      "include_colab_link": true
    },
    "kernelspec": {
      "name": "python3",
      "display_name": "Python 3"
    },
    "language_info": {
      "name": "python"
    }
  },
  "cells": [
    {
      "cell_type": "markdown",
      "metadata": {
        "id": "view-in-github",
        "colab_type": "text"
      },
      "source": [
        "<a href=\"https://colab.research.google.com/github/trianadia/numericalmethod/blob/main/TugasM_KalkulusNumerik.ipynb\" target=\"_parent\"><img src=\"https://colab.research.google.com/assets/colab-badge.svg\" alt=\"Open In Colab\"/></a>"
      ]
    },
    {
      "cell_type": "markdown",
      "source": [
        "TUGAS MATERI KALKULUS NUMERIK\n",
        "\n",
        "NADIA TRIA ALMUQOFFA / 240605110136"
      ],
      "metadata": {
        "id": "bKjFfv1Xn_WK"
      }
    },
    {
      "cell_type": "code",
      "execution_count": 2,
      "metadata": {
        "colab": {
          "base_uri": "https://localhost:8080/"
        },
        "id": "K6JBPUIln9SL",
        "outputId": "298e7475-8689-4321-dbfa-1551dbe524b6"
      },
      "outputs": [
        {
          "output_type": "stream",
          "name": "stdout",
          "text": [
            "Fungsi f(x): x**2 + 4*x + 5\n",
            "Turunan pertama f'(x): 2*x + 4\n",
            "Turunan kedua f''(x): 2\n",
            "Titik kritis: [-2]\n",
            "Pada x = -2, f(x) = 1 adalah Minimum\n",
            "Evaluasi dengan NumPy pada x = -2: 1\n"
          ]
        }
      ],
      "source": [
        "import numpy as np\n",
        "import sympy as sp\n",
        "\n",
        "x = sp.Symbol('x')\n",
        "\n",
        "f = x**2 + 4*x + 5\n",
        "\n",
        "f_prime = sp.diff(f, x)\n",
        "f_double_prime = sp.diff(f_prime, x)\n",
        "\n",
        "print(\"Fungsi f(x):\", f)\n",
        "print(\"Turunan pertama f'(x):\", f_prime)\n",
        "print(\"Turunan kedua f''(x):\", f_double_prime)\n",
        "\n",
        "critical_points = sp.solve(f_prime, x)\n",
        "print(\"Titik kritis:\", critical_points)\n",
        "\n",
        "for cp in critical_points:\n",
        "    second_derivative = f_double_prime.subs(x, cp)\n",
        "    value = f.subs(x, cp)\n",
        "    if second_derivative > 0:\n",
        "        print(f\"Pada x = {cp}, f(x) = {value} adalah Minimum\")\n",
        "    elif second_derivative < 0:\n",
        "        print(f\"Pada x = {cp}, f(x) = {value} adalah Maksimum\")\n",
        "    else:\n",
        "        print(f\"Pada x = {cp}, f(x) = {value} perlu analisis lebih lanjut\")\n",
        "\n",
        "x_val = -2\n",
        "f_numpy = lambda x: x**2 + 4*x + 5\n",
        "print(\"Evaluasi dengan NumPy pada x = -2:\", f_numpy(x_val))\n"
      ]
    }
  ]
}